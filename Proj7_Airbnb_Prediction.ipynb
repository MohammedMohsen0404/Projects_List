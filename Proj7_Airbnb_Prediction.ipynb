{
  "nbformat": 4,
  "nbformat_minor": 0,
  "metadata": {
    "colab": {
      "provenance": [],
      "authorship_tag": "ABX9TyN+Exel1Nt+1rTH8OeYAD8J",
      "include_colab_link": true
    },
    "kernelspec": {
      "name": "python3",
      "display_name": "Python 3"
    },
    "language_info": {
      "name": "python"
    }
  },
  "cells": [
    {
      "cell_type": "markdown",
      "metadata": {
        "id": "view-in-github",
        "colab_type": "text"
      },
      "source": [
        "<a href=\"https://colab.research.google.com/github/MohammedMohsen0404/Projects_List/blob/main/Proj7_Airbnb_Prediction.ipynb\" target=\"_parent\"><img src=\"https://colab.research.google.com/assets/colab-badge.svg\" alt=\"Open In Colab\"/></a>"
      ]
    },
    {
      "cell_type": "markdown",
      "source": [
        "---\n",
        "**<center><h1>Airbnb Cleaned Europe Prediction</h1></center>**\n",
        "<center><h3>Learning ML, DL through 100 Practical Projects</h3></center>\n",
        "\n",
        "---"
      ],
      "metadata": {
        "id": "gKHsHznDmpGh"
      }
    },
    {
      "cell_type": "markdown",
      "source": [
        "#**Import Libraries and Data**\n",
        "---"
      ],
      "metadata": {
        "id": "hJ8P89Lss7zm"
      }
    },
    {
      "cell_type": "code",
      "execution_count": 7,
      "metadata": {
        "id": "6E38oKDNfhUf"
      },
      "outputs": [],
      "source": [
        "import pandas as pd\n",
        "import numpy as np\n",
        "import seaborn as sns\n",
        "import matplotlib.pyplot as plt\n",
        "from scipy import stats\n",
        "from scipy.stats import norm, skew\n",
        "import warnings\n",
        "warnings.filterwarnings('ignore')"
      ]
    },
    {
      "cell_type": "code",
      "source": [
        "from sklearn.model_selection import train_test_split\n",
        "from sklearn.preprocessing import LabelEncoder\n",
        "from sklearn.preprocessing import StandardScaler\n",
        "from sklearn.metrics import r2_score, mean_squared_error, mean_absolute_error"
      ],
      "metadata": {
        "id": "apwZldJD2HSb"
      },
      "execution_count": 8,
      "outputs": []
    },
    {
      "cell_type": "code",
      "source": [
        "D = pd.read_csv(\"Aemf1.csv\")\n",
        "data = D.copy()"
      ],
      "metadata": {
        "id": "P8pn-XD2tFzV",
        "colab": {
          "base_uri": "https://localhost:8080/",
          "height": 304
        },
        "outputId": "f571d271-bb48-4d76-ce25-8f174c40866f"
      },
      "execution_count": 10,
      "outputs": [
        {
          "output_type": "error",
          "ename": "FileNotFoundError",
          "evalue": "[Errno 2] No such file or directory: 'Aemf1.csv'",
          "traceback": [
            "\u001b[0;31m---------------------------------------------------------------------------\u001b[0m",
            "\u001b[0;31mFileNotFoundError\u001b[0m                         Traceback (most recent call last)",
            "\u001b[0;32m<ipython-input-10-0618f9cea0ce>\u001b[0m in \u001b[0;36m<cell line: 1>\u001b[0;34m()\u001b[0m\n\u001b[0;32m----> 1\u001b[0;31m \u001b[0mD\u001b[0m \u001b[0;34m=\u001b[0m \u001b[0mpd\u001b[0m\u001b[0;34m.\u001b[0m\u001b[0mread_csv\u001b[0m\u001b[0;34m(\u001b[0m\u001b[0;34m\"Aemf1.csv\"\u001b[0m\u001b[0;34m)\u001b[0m\u001b[0;34m\u001b[0m\u001b[0;34m\u001b[0m\u001b[0m\n\u001b[0m\u001b[1;32m      2\u001b[0m \u001b[0mdata\u001b[0m \u001b[0;34m=\u001b[0m \u001b[0mD\u001b[0m\u001b[0;34m.\u001b[0m\u001b[0mcopy\u001b[0m\u001b[0;34m(\u001b[0m\u001b[0;34m)\u001b[0m\u001b[0;34m\u001b[0m\u001b[0;34m\u001b[0m\u001b[0m\n",
            "\u001b[0;32m/usr/local/lib/python3.10/dist-packages/pandas/io/parsers/readers.py\u001b[0m in \u001b[0;36mread_csv\u001b[0;34m(filepath_or_buffer, sep, delimiter, header, names, index_col, usecols, dtype, engine, converters, true_values, false_values, skipinitialspace, skiprows, skipfooter, nrows, na_values, keep_default_na, na_filter, verbose, skip_blank_lines, parse_dates, infer_datetime_format, keep_date_col, date_parser, date_format, dayfirst, cache_dates, iterator, chunksize, compression, thousands, decimal, lineterminator, quotechar, quoting, doublequote, escapechar, comment, encoding, encoding_errors, dialect, on_bad_lines, delim_whitespace, low_memory, memory_map, float_precision, storage_options, dtype_backend)\u001b[0m\n\u001b[1;32m    910\u001b[0m     \u001b[0mkwds\u001b[0m\u001b[0;34m.\u001b[0m\u001b[0mupdate\u001b[0m\u001b[0;34m(\u001b[0m\u001b[0mkwds_defaults\u001b[0m\u001b[0;34m)\u001b[0m\u001b[0;34m\u001b[0m\u001b[0;34m\u001b[0m\u001b[0m\n\u001b[1;32m    911\u001b[0m \u001b[0;34m\u001b[0m\u001b[0m\n\u001b[0;32m--> 912\u001b[0;31m     \u001b[0;32mreturn\u001b[0m \u001b[0m_read\u001b[0m\u001b[0;34m(\u001b[0m\u001b[0mfilepath_or_buffer\u001b[0m\u001b[0;34m,\u001b[0m \u001b[0mkwds\u001b[0m\u001b[0;34m)\u001b[0m\u001b[0;34m\u001b[0m\u001b[0;34m\u001b[0m\u001b[0m\n\u001b[0m\u001b[1;32m    913\u001b[0m \u001b[0;34m\u001b[0m\u001b[0m\n\u001b[1;32m    914\u001b[0m \u001b[0;34m\u001b[0m\u001b[0m\n",
            "\u001b[0;32m/usr/local/lib/python3.10/dist-packages/pandas/io/parsers/readers.py\u001b[0m in \u001b[0;36m_read\u001b[0;34m(filepath_or_buffer, kwds)\u001b[0m\n\u001b[1;32m    575\u001b[0m \u001b[0;34m\u001b[0m\u001b[0m\n\u001b[1;32m    576\u001b[0m     \u001b[0;31m# Create the parser.\u001b[0m\u001b[0;34m\u001b[0m\u001b[0;34m\u001b[0m\u001b[0m\n\u001b[0;32m--> 577\u001b[0;31m     \u001b[0mparser\u001b[0m \u001b[0;34m=\u001b[0m \u001b[0mTextFileReader\u001b[0m\u001b[0;34m(\u001b[0m\u001b[0mfilepath_or_buffer\u001b[0m\u001b[0;34m,\u001b[0m \u001b[0;34m**\u001b[0m\u001b[0mkwds\u001b[0m\u001b[0;34m)\u001b[0m\u001b[0;34m\u001b[0m\u001b[0;34m\u001b[0m\u001b[0m\n\u001b[0m\u001b[1;32m    578\u001b[0m \u001b[0;34m\u001b[0m\u001b[0m\n\u001b[1;32m    579\u001b[0m     \u001b[0;32mif\u001b[0m \u001b[0mchunksize\u001b[0m \u001b[0;32mor\u001b[0m \u001b[0miterator\u001b[0m\u001b[0;34m:\u001b[0m\u001b[0;34m\u001b[0m\u001b[0;34m\u001b[0m\u001b[0m\n",
            "\u001b[0;32m/usr/local/lib/python3.10/dist-packages/pandas/io/parsers/readers.py\u001b[0m in \u001b[0;36m__init__\u001b[0;34m(self, f, engine, **kwds)\u001b[0m\n\u001b[1;32m   1405\u001b[0m \u001b[0;34m\u001b[0m\u001b[0m\n\u001b[1;32m   1406\u001b[0m         \u001b[0mself\u001b[0m\u001b[0;34m.\u001b[0m\u001b[0mhandles\u001b[0m\u001b[0;34m:\u001b[0m \u001b[0mIOHandles\u001b[0m \u001b[0;34m|\u001b[0m \u001b[0;32mNone\u001b[0m \u001b[0;34m=\u001b[0m \u001b[0;32mNone\u001b[0m\u001b[0;34m\u001b[0m\u001b[0;34m\u001b[0m\u001b[0m\n\u001b[0;32m-> 1407\u001b[0;31m         \u001b[0mself\u001b[0m\u001b[0;34m.\u001b[0m\u001b[0m_engine\u001b[0m \u001b[0;34m=\u001b[0m \u001b[0mself\u001b[0m\u001b[0;34m.\u001b[0m\u001b[0m_make_engine\u001b[0m\u001b[0;34m(\u001b[0m\u001b[0mf\u001b[0m\u001b[0;34m,\u001b[0m \u001b[0mself\u001b[0m\u001b[0;34m.\u001b[0m\u001b[0mengine\u001b[0m\u001b[0;34m)\u001b[0m\u001b[0;34m\u001b[0m\u001b[0;34m\u001b[0m\u001b[0m\n\u001b[0m\u001b[1;32m   1408\u001b[0m \u001b[0;34m\u001b[0m\u001b[0m\n\u001b[1;32m   1409\u001b[0m     \u001b[0;32mdef\u001b[0m \u001b[0mclose\u001b[0m\u001b[0;34m(\u001b[0m\u001b[0mself\u001b[0m\u001b[0;34m)\u001b[0m \u001b[0;34m->\u001b[0m \u001b[0;32mNone\u001b[0m\u001b[0;34m:\u001b[0m\u001b[0;34m\u001b[0m\u001b[0;34m\u001b[0m\u001b[0m\n",
            "\u001b[0;32m/usr/local/lib/python3.10/dist-packages/pandas/io/parsers/readers.py\u001b[0m in \u001b[0;36m_make_engine\u001b[0;34m(self, f, engine)\u001b[0m\n\u001b[1;32m   1659\u001b[0m                 \u001b[0;32mif\u001b[0m \u001b[0;34m\"b\"\u001b[0m \u001b[0;32mnot\u001b[0m \u001b[0;32min\u001b[0m \u001b[0mmode\u001b[0m\u001b[0;34m:\u001b[0m\u001b[0;34m\u001b[0m\u001b[0;34m\u001b[0m\u001b[0m\n\u001b[1;32m   1660\u001b[0m                     \u001b[0mmode\u001b[0m \u001b[0;34m+=\u001b[0m \u001b[0;34m\"b\"\u001b[0m\u001b[0;34m\u001b[0m\u001b[0;34m\u001b[0m\u001b[0m\n\u001b[0;32m-> 1661\u001b[0;31m             self.handles = get_handle(\n\u001b[0m\u001b[1;32m   1662\u001b[0m                 \u001b[0mf\u001b[0m\u001b[0;34m,\u001b[0m\u001b[0;34m\u001b[0m\u001b[0;34m\u001b[0m\u001b[0m\n\u001b[1;32m   1663\u001b[0m                 \u001b[0mmode\u001b[0m\u001b[0;34m,\u001b[0m\u001b[0;34m\u001b[0m\u001b[0;34m\u001b[0m\u001b[0m\n",
            "\u001b[0;32m/usr/local/lib/python3.10/dist-packages/pandas/io/common.py\u001b[0m in \u001b[0;36mget_handle\u001b[0;34m(path_or_buf, mode, encoding, compression, memory_map, is_text, errors, storage_options)\u001b[0m\n\u001b[1;32m    857\u001b[0m         \u001b[0;32mif\u001b[0m \u001b[0mioargs\u001b[0m\u001b[0;34m.\u001b[0m\u001b[0mencoding\u001b[0m \u001b[0;32mand\u001b[0m \u001b[0;34m\"b\"\u001b[0m \u001b[0;32mnot\u001b[0m \u001b[0;32min\u001b[0m \u001b[0mioargs\u001b[0m\u001b[0;34m.\u001b[0m\u001b[0mmode\u001b[0m\u001b[0;34m:\u001b[0m\u001b[0;34m\u001b[0m\u001b[0;34m\u001b[0m\u001b[0m\n\u001b[1;32m    858\u001b[0m             \u001b[0;31m# Encoding\u001b[0m\u001b[0;34m\u001b[0m\u001b[0;34m\u001b[0m\u001b[0m\n\u001b[0;32m--> 859\u001b[0;31m             handle = open(\n\u001b[0m\u001b[1;32m    860\u001b[0m                 \u001b[0mhandle\u001b[0m\u001b[0;34m,\u001b[0m\u001b[0;34m\u001b[0m\u001b[0;34m\u001b[0m\u001b[0m\n\u001b[1;32m    861\u001b[0m                 \u001b[0mioargs\u001b[0m\u001b[0;34m.\u001b[0m\u001b[0mmode\u001b[0m\u001b[0;34m,\u001b[0m\u001b[0;34m\u001b[0m\u001b[0;34m\u001b[0m\u001b[0m\n",
            "\u001b[0;31mFileNotFoundError\u001b[0m: [Errno 2] No such file or directory: 'Aemf1.csv'"
          ]
        }
      ]
    },
    {
      "cell_type": "markdown",
      "source": [
        "# **Take a look at the data**\n",
        "---"
      ],
      "metadata": {
        "id": "jRf-qBVDtf9A"
      }
    },
    {
      "cell_type": "code",
      "source": [
        "data.head()"
      ],
      "metadata": {
        "id": "FBqHAt62tvsp"
      },
      "execution_count": null,
      "outputs": []
    },
    {
      "cell_type": "code",
      "source": [
        "data.info()"
      ],
      "metadata": {
        "id": "FWnNzaGKte9h"
      },
      "execution_count": null,
      "outputs": []
    },
    {
      "cell_type": "code",
      "source": [
        "data.describe()"
      ],
      "metadata": {
        "id": "1D6AXyBWs0xR"
      },
      "execution_count": null,
      "outputs": []
    },
    {
      "cell_type": "code",
      "source": [
        "data.select_dtypes(include=['object']).describe()"
      ],
      "metadata": {
        "id": "pxelykSTt_Y7"
      },
      "execution_count": null,
      "outputs": []
    },
    {
      "cell_type": "code",
      "source": [
        "data['Price'].describe()"
      ],
      "metadata": {
        "id": "hYAKHedMuUUU"
      },
      "execution_count": null,
      "outputs": []
    },
    {
      "cell_type": "markdown",
      "source": [
        "# **Exploratory Data Analysis**\n",
        "---"
      ],
      "metadata": {
        "id": "1Y9mu4AaRm2f"
      }
    },
    {
      "cell_type": "markdown",
      "source": [
        "**Univariate Analysis**"
      ],
      "metadata": {
        "id": "7soj2PhmSAsO"
      }
    },
    {
      "cell_type": "code",
      "source": [
        "numerical_data = data.select_dtypes(include='number')\n",
        "numerical_data.hist(figsize=(10, 8),color = 'b')\n",
        "plt.tight_layout()\n",
        "plt.show()"
      ],
      "metadata": {
        "id": "OkABiRuHSAUv"
      },
      "execution_count": null,
      "outputs": []
    },
    {
      "cell_type": "code",
      "source": [
        "plt.figure(figsize=(10, 8))\n",
        "sns.boxplot(numerical_data)\n",
        "plt.show()"
      ],
      "metadata": {
        "id": "SUarHG5HThFN"
      },
      "execution_count": null,
      "outputs": []
    },
    {
      "cell_type": "code",
      "source": [
        "categorical_data = data.select_dtypes(include='object')\n",
        "for column in categorical_data.columns:\n",
        "    sns.countplot(data=categorical_data, x=column, palette=\"Set1\")\n",
        "    plt.title(f\"Countplot of {column}\")\n",
        "    plt.show()"
      ],
      "metadata": {
        "id": "8pzy7T3LRmW-"
      },
      "execution_count": null,
      "outputs": []
    },
    {
      "cell_type": "markdown",
      "source": [
        "**Multivariate Analysis**"
      ],
      "metadata": {
        "id": "0QRg-06Rb_eE"
      }
    },
    {
      "cell_type": "code",
      "source": [
        "sns.pairplot(data.select_dtypes(include='number'))\n",
        "plt.show()"
      ],
      "metadata": {
        "id": "8PTK9nHEckhY"
      },
      "execution_count": null,
      "outputs": []
    },
    {
      "cell_type": "code",
      "source": [
        "sns.heatmap(numerical_data.corr(), annot=True, cmap='coolwarm')\n",
        "plt.show()"
      ],
      "metadata": {
        "id": "Vm8rAbD4dtpT"
      },
      "execution_count": null,
      "outputs": []
    },
    {
      "cell_type": "code",
      "source": [
        "sns.distplot(data['Price'],fit = stats.norm)\n",
        "fig = plt.figure()\n",
        "res = stats.probplot(data['Price'], plot=plt)"
      ],
      "metadata": {
        "id": "LsLFVRMfuk4A"
      },
      "execution_count": null,
      "outputs": []
    },
    {
      "cell_type": "markdown",
      "source": [
        "# **Data Cleaning**\n",
        "---"
      ],
      "metadata": {
        "id": "zvjMyN4Ssfdm"
      }
    },
    {
      "cell_type": "markdown",
      "source": [
        "**Handling Duplicate Rows**"
      ],
      "metadata": {
        "id": "0zwQ6PI6nlXY"
      }
    },
    {
      "cell_type": "code",
      "source": [
        "# Check for duplicate rows\n",
        "duplicate_rows = data.duplicated()\n",
        "# Count of duplicate rows\n",
        "print(f\"Number of duplicate rows: {duplicate_rows.sum()}\")"
      ],
      "metadata": {
        "id": "4S1160R-bv2R"
      },
      "execution_count": null,
      "outputs": []
    },
    {
      "cell_type": "markdown",
      "source": [
        "**Handling Missing Data**"
      ],
      "metadata": {
        "id": "G2f_IWCuxT7I"
      }
    },
    {
      "cell_type": "code",
      "source": [
        "total = data.isnull().sum().sort_values(ascending=False)\n",
        "percent = (data.isnull().sum()/data.isnull().count()).sort_values(ascending=False)\n",
        "missing_data = pd.concat([total, percent], axis=1, keys=['Total', 'Percent'])\n",
        "missing_data.head(10)"
      ],
      "metadata": {
        "id": "Kpw9CP0dki25"
      },
      "execution_count": null,
      "outputs": []
    },
    {
      "cell_type": "code",
      "source": [
        "total = data.isnull().sum().sum()\n",
        "print('Total Null values =' ,total)"
      ],
      "metadata": {
        "id": "PMBflmf8kwNj"
      },
      "execution_count": null,
      "outputs": []
    },
    {
      "cell_type": "markdown",
      "source": [
        "# **Data Preprocessing**\n",
        "---"
      ],
      "metadata": {
        "id": "YK2zR6QAC8Pr"
      }
    },
    {
      "cell_type": "markdown",
      "source": [
        "**Formatting**"
      ],
      "metadata": {
        "id": "tfVgNnVhgJbZ"
      }
    },
    {
      "cell_type": "code",
      "source": [
        "data['Shared Room'] = data['Shared Room'].astype(int)\n",
        "data['Private Room'] = data['Private Room'].astype(int)\n",
        "data['Superhost'] = data['Superhost'].astype(int)"
      ],
      "metadata": {
        "id": "h40hhqR1yhT1"
      },
      "execution_count": null,
      "outputs": []
    },
    {
      "cell_type": "markdown",
      "source": [
        "**Dealing with Outliers**"
      ],
      "metadata": {
        "id": "sCxpcIgpfx5v"
      }
    },
    {
      "cell_type": "code",
      "source": [
        "data['Price']=np.log1p(data['Price'])\n",
        "data['Price']=np.sqrt(data['Price'])"
      ],
      "metadata": {
        "id": "cXhwQt3hKvuC"
      },
      "execution_count": null,
      "outputs": []
    },
    {
      "cell_type": "code",
      "source": [
        "col_outlier = ['Price', 'City Center (km)', 'Metro Distance (km)',\n",
        "               'Attraction Index', 'Normalised Attraction Index',\n",
        "               'Restraunt Index', 'Normalised Restraunt Index']"
      ],
      "metadata": {
        "id": "JzzU1cdO0m2k"
      },
      "execution_count": null,
      "outputs": []
    },
    {
      "cell_type": "code",
      "source": [
        "for col in col_outlier:\n",
        "    Q1 = data[col].quantile(0.25)\n",
        "    Q3 = data[col].quantile(0.75)\n",
        "\n",
        "    IQR = Q3 - Q1\n",
        "\n",
        "    limit_low = Q1 - IQR * 1.7\n",
        "    limit_high = Q3 + IQR * 1.7\n",
        "\n",
        "    data = data[(data[col] >= limit_low) & (data[col] <= limit_high)]\n"
      ],
      "metadata": {
        "id": "VXI4NTtt0qmk"
      },
      "execution_count": null,
      "outputs": []
    },
    {
      "cell_type": "code",
      "source": [
        "sns.distplot(data['Price'],fit = stats.norm)\n",
        "fig = plt.figure()\n",
        "res = stats.probplot(data['Price'], plot=plt)"
      ],
      "metadata": {
        "id": "ZUD9PuZ78dfL"
      },
      "execution_count": null,
      "outputs": []
    },
    {
      "cell_type": "markdown",
      "source": [
        "**Encoding Categorical Variables**"
      ],
      "metadata": {
        "id": "oto1iZYBs9Jk"
      }
    },
    {
      "cell_type": "code",
      "source": [
        "list_str = data.select_dtypes(include = 'object').columns\n",
        "le = LabelEncoder()\n",
        "\n",
        "for c in list_str:\n",
        "    data[c] = le.fit_transform(data[c])"
      ],
      "metadata": {
        "id": "Shamhm9E2RXT"
      },
      "execution_count": null,
      "outputs": []
    },
    {
      "cell_type": "code",
      "source": [
        "sns.heatmap(data.corr())"
      ],
      "metadata": {
        "id": "sItDZW9g7CHq"
      },
      "execution_count": null,
      "outputs": []
    },
    {
      "cell_type": "markdown",
      "source": [
        "**Data splitting**"
      ],
      "metadata": {
        "id": "RB1hghfc2n8V"
      }
    },
    {
      "cell_type": "code",
      "source": [
        "X = data.drop(['Price','Shared Room','Private Room',\n",
        "             'Superhost','Attraction Index','Restraunt Index', 'Day',\n",
        "             'Cleanliness Rating'], axis = 1)\n",
        "y = data['Price']\n",
        "\n",
        "xtrain, xtest, ytrain, ytest = train_test_split(X, y, test_size = 0.30, random_state = 11)"
      ],
      "metadata": {
        "id": "UG8y6zpU2ocj"
      },
      "execution_count": null,
      "outputs": []
    },
    {
      "cell_type": "markdown",
      "source": [
        "# **Modeling**"
      ],
      "metadata": {
        "id": "mH8Wv0u94CoE"
      }
    },
    {
      "cell_type": "code",
      "source": [
        "from sklearn.linear_model import LinearRegression, Ridge, Lasso\n",
        "from sklearn.tree import DecisionTreeRegressor\n",
        "from sklearn.ensemble import RandomForestRegressor, GradientBoostingRegressor\n",
        "from sklearn.neighbors import KNeighborsRegressor\n",
        "import xgboost as XGB\n"
      ],
      "metadata": {
        "id": "HIM2kCrc4Aff"
      },
      "execution_count": null,
      "outputs": []
    },
    {
      "cell_type": "code",
      "source": [
        "regressors = [\n",
        "    ('Linear Regression', LinearRegression()),\n",
        "    ('Ridge Regression', Ridge(random_state=42)),\n",
        "    ('Lasso Regression', Lasso(random_state=42)),\n",
        "    ('Decision Tree Regressor', DecisionTreeRegressor(random_state=42)),\n",
        "    ('Random Forest Regressor', RandomForestRegressor(random_state=42)),\n",
        "    ('K-Nearest Neighbors Regressor', KNeighborsRegressor()),\n",
        "    ('Gradient Boosting Regressor', GradientBoostingRegressor(random_state=42)),\n",
        "    ('XGBRegressor',XGB.XGBRegressor(random_state=42))\n",
        "]"
      ],
      "metadata": {
        "id": "tyzA3pZW3bPx"
      },
      "execution_count": null,
      "outputs": []
    },
    {
      "cell_type": "code",
      "source": [
        "for clf_name, clf in regressors:\n",
        "    clf.fit(xtrain, ytrain)\n",
        "    y_pred = clf.predict(xtest)\n",
        "    print(f'{clf_name}:')\n",
        "    print('R2 Score: ', r2_score(ytest, y_pred))\n",
        "    print(\"MSE: \", mean_squared_error(ytest, y_pred))\n",
        "    print(\"MAE: \", mean_absolute_error(ytest, y_pred))\n",
        "    print('------------------------------------')\n"
      ],
      "metadata": {
        "id": "Rv_du0_P3iv8"
      },
      "execution_count": null,
      "outputs": []
    }
  ]
}